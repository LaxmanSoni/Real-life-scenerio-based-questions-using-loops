{
 "cells": [
  {
   "cell_type": "markdown",
   "id": "036f3c4f",
   "metadata": {},
   "source": [
    " Multiplication Table Generator\n",
    "\n",
    "Write a Python program that takes a number as input from the user and generates its multiplication table up to 10. Use a loop to calculate and print each multiplication result."
   ]
  },
  {
   "cell_type": "code",
   "execution_count": 6,
   "id": "bef39bb2",
   "metadata": {},
   "outputs": [
    {
     "name": "stdout",
     "output_type": "stream",
     "text": [
      "Enter a number :21\n",
      "This is your Table: \n",
      "21\n",
      "42\n",
      "63\n",
      "84\n",
      "105\n",
      "126\n",
      "147\n",
      "168\n",
      "189\n",
      "210\n"
     ]
    }
   ],
   "source": [
    "num = int(input(\"Enter a number :\"))\n",
    "\n",
    "print(\"This is your Table: \")\n",
    "\n",
    "for i in range(1,11):\n",
    "    result = num * i\n",
    "    print(result)\n"
   ]
  },
  {
   "cell_type": "markdown",
   "id": "50de1c8b",
   "metadata": {},
   "source": [
    "Problem: Simple Interest Calculator\n",
    "\n",
    "Develop a program that calculates the simple interest for a given principal amount, interest rate, and time period. Ask the user to input the required values and use a loop to calculate and print the interest for multiple scenarios.\n",
    "\n"
   ]
  },
  {
   "cell_type": "code",
   "execution_count": null,
   "id": "45532dec",
   "metadata": {},
   "outputs": [
    {
     "name": "stdout",
     "output_type": "stream",
     "text": [
      "Welcome to the Simple Interest Calculator :\n",
      "Enter the number of scenarios : 1\n",
      "Enter the principal amount : 2000\n",
      "enter your interest rate (percentage): 10\n",
      "enter the time period (Year): 1\n",
      "your total interst is :  200.0\n",
      "Enter the principal amount : 2000\n",
      "enter your interest rate (percentage): 10\n",
      "enter the time period (Year): 1\n",
      "your total interst is :  200.0\n"
     ]
    }
   ],
   "source": [
    "print (\"Welcome to the Simple Interest Calculator :\")\n",
    "\n",
    "num_scenarios = int (input(\"Enter the number of scenarios : \"))\n",
    "if num_scenarios <=0:\n",
    "    print(\"Please enter the positive number \")\n",
    "else:\n",
    "    scenario = 1\n",
    "    \n",
    "while scenario <= num_scenarios:\n",
    "    \n",
    "    principal_amount = int(input(\"Enter the principal amount : \"))\n",
    "    interest_rate = float(input(\"enter your interest rate (percentage): \"))\n",
    "    time_period = float(input(\"enter the time period (Year): \"))\n",
    "    \n",
    "    interest = (principal_amount * interest_rate * time_period) / 100\n",
    "    \n",
    "    print(\"your total interst is : \",interest)\n",
    "    "
   ]
  },
  {
   "cell_type": "markdown",
   "id": "2c7436a2",
   "metadata": {},
   "source": [
    "Problem: Pattern Printing"
   ]
  },
  {
   "cell_type": "code",
   "execution_count": 9,
   "id": "c86d7bc5",
   "metadata": {},
   "outputs": [
    {
     "name": "stdout",
     "output_type": "stream",
     "text": [
      "        * \n",
      "      * * * \n",
      "    * * * * * \n",
      "  * * * * * * * \n",
      "* * * * * * * * * \n",
      "  * * * * * * * * * \n",
      "    * * * * * * * \n",
      "      * * * * * \n",
      "        * * * \n",
      "          * \n"
     ]
    }
   ],
   "source": [
    "n = 5\n",
    "\n",
    "for i in range(n):\n",
    "    for j in range(i, n - 1):\n",
    "        print(\" \", end=\" \")\n",
    "    \n",
    "    for j in range(i):\n",
    "        print(\"*\", end=\" \")\n",
    "        \n",
    "    for j in range(i + 1):\n",
    "        print(\"*\", end=\" \")\n",
    "    print()\n",
    "\n",
    "\n",
    "for i in range(n):\n",
    "    for j in range(i + 1):\n",
    "        print(\" \", end=\" \")\n",
    "        \n",
    "    for j in range(i, n - 1):\n",
    "        print(\"*\", end=\" \")\n",
    "        \n",
    "    for j in range(i, n):\n",
    "        print(\"*\", end=' ')\n",
    "    print()\n"
   ]
  },
  {
   "cell_type": "markdown",
   "id": "ef4e16a4",
   "metadata": {},
   "source": [
    "Problem: Calendar Generator\n",
    "\n",
    "Write a program that generates a simple calendar for a given month. Ask the user to input the month and year, and use loops to print the days of the week and the corresponding dates."
   ]
  },
  {
   "cell_type": "code",
   "execution_count": 4,
   "id": "70a790ea",
   "metadata": {},
   "outputs": [
    {
     "name": "stdout",
     "output_type": "stream",
     "text": [
      "Enter the year: 2024\n",
      "Enter the month (1-12): 2\n",
      "\n",
      "Calendar for February 2024:\n",
      "\n",
      "Mo Tu We Th Fr Sa Su\n",
      "          1  2  3  4\n",
      " 5  6  7  8  9 10 11\n",
      "12 13 14 15 16 17 18\n",
      "19 20 21 22 23 24 25\n",
      "26 27 28 29         \n"
     ]
    }
   ],
   "source": [
    "import calendar\n",
    "\n",
    "def generate_calendar(month, year):\n",
    "    cal = calendar.monthcalendar(year, month)\n",
    "    weekdays = ['Mo', 'Tu', 'We', 'Th', 'Fr', 'Sa', 'Su']\n",
    "\n",
    "    print(\" \".join(weekdays))\n",
    "\n",
    "    for week in cal:\n",
    "        week_str = ' '.join(f\"{day:2}\" if day != 0 else \"  \" for day in week)\n",
    "        print(week_str)\n",
    "\n",
    "def main():\n",
    "    try:\n",
    "        year = int(input(\"Enter the year: \"))\n",
    "        month = int(input(\"Enter the month (1-12): \"))\n",
    "\n",
    "        if 1 <= month <= 12:\n",
    "            print(f\"\\nCalendar for {calendar.month_name[month]} {year}:\\n\")\n",
    "            generate_calendar(month, year)\n",
    "        else:\n",
    "            print(\"Invalid month. Please enter a number between 1 and 12.\")\n",
    "    except ValueError:\n",
    "        print(\"Invalid input. Please enter valid integers.\")\n",
    "\n",
    "if __name__ == \"__main__\":\n",
    "    main()\n",
    "\n",
    "        "
   ]
  },
  {
   "cell_type": "code",
   "execution_count": 5,
   "id": "8dd5d48b",
   "metadata": {},
   "outputs": [
    {
     "name": "stdout",
     "output_type": "stream",
     "text": [
      "Enter the year :2024\n",
      "Enter the month : 2\n",
      "   February 2024\n",
      "Mo Tu We Th Fr Sa Su\n",
      "          1  2  3  4\n",
      " 5  6  7  8  9 10 11\n",
      "12 13 14 15 16 17 18\n",
      "19 20 21 22 23 24 25\n",
      "26 27 28 29\n",
      "\n"
     ]
    }
   ],
   "source": [
    "import calendar\n",
    "\n",
    "yy = int(input(\"Enter the year :\"))\n",
    "\n",
    "mm= int(input(\"Enter the month : \"))\n",
    "\n",
    "print (calendar.month(yy,mm))"
   ]
  },
  {
   "cell_type": "markdown",
   "id": "98672f17",
   "metadata": {},
   "source": [
    "Problem: Password Generator\n",
    "\n",
    "Write a program that generates a random password based on user preferences. Ask the user to input the desired length and whether they want uppercase letters, lowercase letters, numbers, and special characters in the password. Use a loop to construct and print the password."
   ]
  },
  {
   "cell_type": "code",
   "execution_count": 10,
   "id": "9b7e419c",
   "metadata": {},
   "outputs": [
    {
     "name": "stdout",
     "output_type": "stream",
     "text": [
      "Password Generator\n",
      "Enter the desired length of the password: 8\n",
      "Include uppercase letters? (yes/no): yes \n",
      "Include lowercase letters? (yes/no): yes \n",
      "Include numbers? (yes/no): yes \n",
      "Include special characters? (yes/no): yes\n",
      "Generated Password: {!|/`-'+\n"
     ]
    }
   ],
   "source": [
    "import random\n",
    "import string\n",
    "\n",
    "def password_gen(length, use_uppercase, use_lowercase, use_numbers, use_special_chars):\n",
    "    characters = \"\"\n",
    "\n",
    "    if use_uppercase:\n",
    "        characters += string.ascii_uppercase\n",
    "    if use_lowercase:\n",
    "        characters += string.ascii_lowercase\n",
    "    if use_numbers:\n",
    "        characters += string.digits\n",
    "    if use_special_chars:\n",
    "        characters += string.punctuation\n",
    "\n",
    "    if not characters:\n",
    "        print(\"Error: At least one character set must be selected.\")\n",
    "        return\n",
    "\n",
    "    password = \"\"\n",
    "    for _ in range(length):\n",
    "        password += random.choice(characters)\n",
    "\n",
    "    return password\n",
    "\n",
    "def main():\n",
    "    print(\"Password Generator\")\n",
    "\n",
    "    try:\n",
    "        length = int(input(\"Enter the desired length of the password: \"))\n",
    "        use_uppercase = input(\"Include uppercase letters? (yes/no): \").lower() == 'yes'\n",
    "        use_lowercase = input(\"Include lowercase letters? (yes/no): \").lower() == 'yes'\n",
    "        use_numbers = input(\"Include numbers? (yes/no): \").lower() == 'yes'\n",
    "        use_special_chars = input(\"Include special characters? (yes/no): \").lower() == 'yes'\n",
    "    except ValueError:\n",
    "        print(\"Invalid input. Please enter valid values.\")\n",
    "        return\n",
    "\n",
    "    password = password_gen(length, use_uppercase, use_lowercase, use_numbers, use_special_chars)\n",
    "\n",
    "    if password:\n",
    "        print(f\"Generated Password: {password}\")\n",
    "\n",
    "if __name__ == \"__main__\":\n",
    "    main()\n"
   ]
  }
 ],
 "metadata": {
  "kernelspec": {
   "display_name": "Python 3 (ipykernel)",
   "language": "python",
   "name": "python3"
  },
  "language_info": {
   "codemirror_mode": {
    "name": "ipython",
    "version": 3
   },
   "file_extension": ".py",
   "mimetype": "text/x-python",
   "name": "python",
   "nbconvert_exporter": "python",
   "pygments_lexer": "ipython3",
   "version": "3.11.5"
  }
 },
 "nbformat": 4,
 "nbformat_minor": 5
}
